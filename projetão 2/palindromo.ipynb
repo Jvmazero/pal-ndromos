{
 "cells": [
  {
   "cell_type": "code",
   "execution_count": 8,
   "id": "c1bc2730-b76e-4eea-ad1f-f52c6a59cf74",
   "metadata": {},
   "outputs": [
    {
     "name": "stdout",
     "output_type": "stream",
     "text": [
      "O texto \"omissíssimo\" é um palíndromo!\n"
     ]
    }
   ],
   "source": [
    "import string\n",
    "\n",
    "def eh_palindromo(texto):\n",
    "    # Remover pontuações e espaços e converter para minúsculas\n",
    "    translator = str.maketrans('', '', string.punctuation + ' ')\n",
    "    texto_formatado = texto.translate(translator).lower()\n",
    "    \n",
    "    # Verificar se o texto formatado é igual ao seu reverso\n",
    "    return texto_formatado == texto_formatado[::-1]\n",
    "\n",
    "# Exemplo de texto para teste\n",
    "texto_exemplo = \"omissíssimo\"\n",
    "\n",
    "# Verificar se o texto exemplo é um palíndromo\n",
    "if eh_palindromo(texto_exemplo):\n",
    "    print(f'O texto \"{texto_exemplo}\" é um palíndromo!')\n",
    "else:\n",
    "    print(f'O texto \"{texto_exemplo}\" não é um palíndromo.')\n"
   ]
  },
  {
   "cell_type": "code",
   "execution_count": null,
   "id": "0e679369-0b26-4f4c-a297-a5863aae276e",
   "metadata": {},
   "outputs": [],
   "source": []
  }
 ],
 "metadata": {
  "kernelspec": {
   "display_name": "Python 3 (ipykernel)",
   "language": "python",
   "name": "python3"
  },
  "language_info": {
   "codemirror_mode": {
    "name": "ipython",
    "version": 3
   },
   "file_extension": ".py",
   "mimetype": "text/x-python",
   "name": "python",
   "nbconvert_exporter": "python",
   "pygments_lexer": "ipython3",
   "version": "3.11.7"
  }
 },
 "nbformat": 4,
 "nbformat_minor": 5
}
